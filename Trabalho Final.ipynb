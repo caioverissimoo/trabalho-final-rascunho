{
 "cells": [
  {
   "cell_type": "markdown",
   "id": "45c50ee6",
   "metadata": {},
   "source": [
    "Introdução \n",
    "\n",
    "\n",
    "As estratégias de controle empregadas atualmente prezam por dois quesitos principais, além da viabilidade econômica: a eficiência do método utilizado, o que leva à busca pelo controle ótimo, e a robustez do modelo adotado, que se relaciona com a capacidade dele de lidar com falhas ou outras situações do mundo real que requeiram adaptações às entradas de controle fornecidas ao sistema.\n",
    "Nesse contexto, a alocação de controle cresce em importância, pois visa equilibrar objetivos distintos, possivelmente conflitantes, de modo que todos sejam atingidos a partir do uso de recursos limitados. Para a demonstração desse paradigma, é proposto um problema de posicionamento de um cesto, em uma dimensão,  com exigências de posicionamento em determinados instantes. O cesto sofrerá a ação de 4 controladores distintos, sob diferentes propostas, por exemplo, minimizar o número de controladores ativos, a precisão com que as posições precisam ser atingidas e pelo menos um cenário de falha de algum dos controladores."
   ]
  },
  {
   "cell_type": "markdown",
   "id": "db179c11",
   "metadata": {},
   "source": [
    "2 - modelos\n",
    "\n",
    "modelo temporal - ajuda? variavel auxiliar t\n",
    "\n",
    "funçao objetivo: custo dos controladores: do tipo $c^T * x$, onde c é um vetor com custos para a utilizaçao de cada controlador e $x_i$ é uma variavel inteira $z_i$ multiplicando a variavel de decisao - modela controladores ativos ou desligados \n",
    "\n",
    "cenarios diferentes:\n",
    "\n",
    "controladores com custos diferentes\n",
    "\n",
    "$l_1$ - norma 1 para as entradas dos controladores, objetivo é ter poucas entradas\n",
    "\n",
    "$l_2$ - norma 2 para as entradas dos controladores, suavizar as entradas (\"evitar picos\")\n",
    "\n",
    "$z_i$ - maximo de controladores ativos\n",
    "\n",
    "$z$ e $t$ - simular falha em algum controlador"
   ]
  },
  {
   "cell_type": "markdown",
   "id": "eb354c8f",
   "metadata": {},
   "source": [
    "código de cada modelo + gráficos"
   ]
  },
  {
   "cell_type": "code",
   "execution_count": null,
   "id": "30ed0af1",
   "metadata": {},
   "outputs": [],
   "source": []
  }
 ],
 "metadata": {
  "kernelspec": {
   "display_name": "Julia 1.9.3",
   "language": "julia",
   "name": "julia-1.9"
  },
  "language_info": {
   "file_extension": ".jl",
   "mimetype": "application/julia",
   "name": "julia",
   "version": "1.9.3"
  }
 },
 "nbformat": 4,
 "nbformat_minor": 5
}
